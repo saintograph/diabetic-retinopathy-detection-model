{
 "cells": [
  {
   "cell_type": "code",
   "execution_count": 2,
   "metadata": {
    "collapsed": false
   },
   "outputs": [],
   "source": [
    "# from keras.applications import VGG16\n",
    "# conv_base = VGG16(weights='imagenet', include_top=False, input_shape=(150, 150, 3))\n",
    "# conv_base.summary()\n",
    "# accuracy = 78%\n",
    "\n",
    "# from keras.applications import Xception\n",
    "# conv_base = Xception(weights='imagenet', include_top=False, input_shape=(299, 299, 3))\n",
    "\n",
    "from keras.applications import VGG19\n",
    "conv_base = VGG19(weights='imagenet', include_top=False, input_shape=(224, 224, 3))\n",
    "\n",
    "# from keras.applications import ResNet50\n",
    "# conv_base = ResNet50(weights='imagenet', include_top=False, input_shape=(197, 197, 3))"
   ]
  },
  {
   "cell_type": "code",
   "execution_count": 6,
   "metadata": {
    "collapsed": false
   },
   "outputs": [
    {
     "name": "stdout",
     "output_type": "stream",
     "text": [
      "_________________________________________________________________\n",
      "Layer (type)                 Output Shape              Param #   \n",
      "=================================================================\n",
      "vgg19 (Model)                (None, 7, 7, 512)         20024384  \n",
      "_________________________________________________________________\n",
      "flatten_3 (Flatten)          (None, 25088)             0         \n",
      "_________________________________________________________________\n",
      "dense_9 (Dense)              (None, 512)               12845568  \n",
      "_________________________________________________________________\n",
      "dropout_7 (Dropout)          (None, 512)               0         \n",
      "_________________________________________________________________\n",
      "dense_10 (Dense)             (None, 256)               131328    \n",
      "_________________________________________________________________\n",
      "dropout_8 (Dropout)          (None, 256)               0         \n",
      "_________________________________________________________________\n",
      "dense_11 (Dense)             (None, 128)               32896     \n",
      "_________________________________________________________________\n",
      "dropout_9 (Dropout)          (None, 128)               0         \n",
      "_________________________________________________________________\n",
      "dense_12 (Dense)             (None, 5)                 645       \n",
      "=================================================================\n",
      "Total params: 33,034,821.0\n",
      "Trainable params: 33,034,821.0\n",
      "Non-trainable params: 0.0\n",
      "_________________________________________________________________\n"
     ]
    }
   ],
   "source": [
    "from keras import models\n",
    "from keras import layers\n",
    "from keras import regularizers\n",
    "\n",
    "model = models.Sequential()\n",
    "model.add(conv_base)\n",
    "model.add(layers.Flatten())\n",
    "model.add(layers.Dense(512, activation='relu', kernel_regularizer = regularizers.l1_l2(0.3)))\n",
    "model.add(layers.Dropout(0.5))\n",
    "model.add(layers.Dense(256, activation='relu', kernel_regularizer = regularizers.l1_l2(0.3)))\n",
    "model.add(layers.Dropout(0.5))\n",
    "model.add(layers.Dense(128, activation='relu', kernel_regularizer = regularizers.l1_l2(0.3)))\n",
    "model.add(layers.Dropout(0.5))\n",
    "model.add(layers.Dense(5, activation='softmax'))\n",
    "\n",
    "model.summary()"
   ]
  },
  {
   "cell_type": "code",
   "execution_count": 3,
   "metadata": {
    "collapsed": false
   },
   "outputs": [],
   "source": [
    "from keras.preprocessing.image import ImageDataGenerator\n",
    "from keras import optimizers\n",
    "from keras.utils.np_utils import to_categorical\n",
    "from numpy import array, argmax\n",
    "\n",
    "# categories = array(['0', '1', '2', '3', '4'])\n",
    "# encoded = to_categorical(categories)\n",
    "# inverted = argmax(encoded)\n",
    "# label = np_utils.to_categorical(4)\n",
    "# print(encoded)\n",
    "\n",
    "train_datagen = ImageDataGenerator(rescale=1./255)\n",
    "test_datagen = ImageDataGenerator(rescale=1./255)"
   ]
  },
  {
   "cell_type": "code",
   "execution_count": 9,
   "metadata": {
    "collapsed": false
   },
   "outputs": [
    {
     "name": "stdout",
     "output_type": "stream",
     "text": [
      "Found 30000 images belonging to 5 classes.\n",
      "Found 5120 images belonging to 5 classes.\n",
      "Epoch 1/50\n",
      "500/500 [==============================] - 508s - loss: 3979.3220 - acc: 0.4039 - val_loss: 1612.6602 - val_acc: 0.7500\n",
      "Epoch 2/50\n",
      "500/500 [==============================] - 507s - loss: 1435.3194 - acc: 0.2068 - val_loss: 1235.9864 - val_acc: 0.1378\n",
      "Epoch 3/50\n",
      "500/500 [==============================] - 505s - loss: 1085.5988 - acc: 0.2736 - val_loss: 912.6709 - val_acc: 0.1453\n",
      "Epoch 4/50\n",
      "500/500 [==============================] - 505s - loss: 788.7162 - acc: 0.4097 - val_loss: 641.9279 - val_acc: 0.7487\n",
      "Epoch 5/50\n",
      "500/500 [==============================] - 505s - loss: 543.7569 - acc: 0.5445 - val_loss: 423.3931 - val_acc: 0.7460\n",
      "Epoch 6/50\n",
      "500/500 [==============================] - 505s - loss: 351.1977 - acc: 0.6851 - val_loss: 256.9820 - val_acc: 0.7470\n",
      "Epoch 7/50\n",
      "500/500 [==============================] - 505s - loss: 211.0485 - acc: 0.6858 - val_loss: 143.0584 - val_acc: 0.7468\n",
      "Epoch 8/50\n",
      "500/500 [==============================] - 505s - loss: 123.4243 - acc: 0.7181 - val_loss: 82.0689 - val_acc: 0.7488\n",
      "Epoch 9/50\n",
      "500/500 [==============================] - 505s - loss: 83.6058 - acc: 0.7222 - val_loss: 55.9749 - val_acc: 0.7462\n",
      "Epoch 10/50\n",
      "500/500 [==============================] - 505s - loss: 61.6646 - acc: 0.7239 - val_loss: 37.9441 - val_acc: 0.7490\n",
      "Epoch 11/50\n",
      "500/500 [==============================] - 505s - loss: 47.5186 - acc: 0.7219 - val_loss: 27.7227 - val_acc: 0.7477\n",
      "Epoch 12/50\n",
      "500/500 [==============================] - 505s - loss: 41.0082 - acc: 0.7325 - val_loss: 25.2416 - val_acc: 0.7455\n",
      "Epoch 13/50\n",
      "500/500 [==============================] - 505s - loss: 40.4014 - acc: 0.7270 - val_loss: 25.2467 - val_acc: 0.7495\n",
      "Epoch 14/50\n",
      "500/500 [==============================] - 505s - loss: 40.4881 - acc: 0.7275 - val_loss: 25.2525 - val_acc: 0.7438\n",
      "Epoch 15/50\n",
      "500/500 [==============================] - 505s - loss: 40.5914 - acc: 0.7320 - val_loss: 25.2585 - val_acc: 0.7492\n",
      "Epoch 16/50\n",
      "500/500 [==============================] - 505s - loss: 40.5160 - acc: 0.7232 - val_loss: 25.2650 - val_acc: 0.7468\n",
      "Epoch 17/50\n",
      "500/500 [==============================] - 505s - loss: 40.6811 - acc: 0.7032 - val_loss: 25.2722 - val_acc: 0.7482\n",
      "Epoch 18/50\n",
      "500/500 [==============================] - 505s - loss: 40.2831 - acc: 0.7250 - val_loss: 25.2760 - val_acc: 0.7460\n",
      "Epoch 19/50\n",
      "500/500 [==============================] - 505s - loss: 40.5761 - acc: 0.7291 - val_loss: 25.2820 - val_acc: 0.7498\n",
      "Epoch 20/50\n",
      "500/500 [==============================] - 505s - loss: 40.5020 - acc: 0.7273 - val_loss: 25.2882 - val_acc: 0.7458\n",
      "Epoch 21/50\n",
      "500/500 [==============================] - 505s - loss: 40.4026 - acc: 0.7264 - val_loss: 25.2932 - val_acc: 0.7480\n",
      "Epoch 22/50\n",
      "500/500 [==============================] - 505s - loss: 40.3782 - acc: 0.7197 - val_loss: 25.2987 - val_acc: 0.7453\n",
      "Epoch 23/50\n",
      "500/500 [==============================] - 505s - loss: 40.4386 - acc: 0.7228 - val_loss: 25.3032 - val_acc: 0.7518\n",
      "Epoch 24/50\n",
      "500/500 [==============================] - 505s - loss: 40.6653 - acc: 0.7181 - val_loss: 25.3111 - val_acc: 0.7435\n",
      "Epoch 25/50\n",
      "500/500 [==============================] - 505s - loss: 40.6282 - acc: 0.7249 - val_loss: 25.3177 - val_acc: 0.7493\n",
      "Epoch 26/50\n",
      "500/500 [==============================] - 505s - loss: 40.5091 - acc: 0.7187 - val_loss: 25.3237 - val_acc: 0.7457\n",
      "Epoch 27/50\n",
      "500/500 [==============================] - 505s - loss: 40.3437 - acc: 0.7141 - val_loss: 25.3285 - val_acc: 0.7402\n",
      "Epoch 28/50\n",
      "500/500 [==============================] - 505s - loss: 40.5196 - acc: 0.7075 - val_loss: 25.3345 - val_acc: 0.7542\n",
      "Epoch 29/50\n",
      "500/500 [==============================] - 505s - loss: 40.4902 - acc: 0.7182 - val_loss: 25.3406 - val_acc: 0.7462\n",
      "Epoch 30/50\n",
      "500/500 [==============================] - 505s - loss: 40.4730 - acc: 0.7233 - val_loss: 25.3459 - val_acc: 0.7495\n",
      "Epoch 31/50\n",
      "500/500 [==============================] - 505s - loss: 40.5005 - acc: 0.7309 - val_loss: 25.3521 - val_acc: 0.7460\n",
      "Epoch 32/50\n",
      "500/500 [==============================] - 505s - loss: 40.5340 - acc: 0.7211 - val_loss: 25.3583 - val_acc: 0.7470\n",
      "Epoch 33/50\n",
      "500/500 [==============================] - 505s - loss: 40.4479 - acc: 0.7179 - val_loss: 25.3635 - val_acc: 0.7493\n",
      "Epoch 34/50\n",
      "500/500 [==============================] - 505s - loss: 40.4154 - acc: 0.7302 - val_loss: 25.3693 - val_acc: 0.7488\n",
      "Epoch 35/50\n",
      "500/500 [==============================] - 505s - loss: 40.6200 - acc: 0.7202 - val_loss: 25.3766 - val_acc: 0.7430\n",
      "Epoch 36/50\n",
      "500/500 [==============================] - 505s - loss: 40.4484 - acc: 0.7178 - val_loss: 25.3819 - val_acc: 0.7578\n",
      "Epoch 37/50\n",
      "500/500 [==============================] - 505s - loss: 40.5229 - acc: 0.7246 - val_loss: 25.3894 - val_acc: 0.7355\n",
      "Epoch 38/50\n",
      "500/500 [==============================] - 505s - loss: 40.5236 - acc: 0.7215 - val_loss: 25.3954 - val_acc: 0.7527\n",
      "Epoch 39/50\n",
      "500/500 [==============================] - 505s - loss: 40.4357 - acc: 0.7172 - val_loss: 25.4013 - val_acc: 0.7513\n",
      "Epoch 40/50\n",
      "500/500 [==============================] - 505s - loss: 40.6563 - acc: 0.7170 - val_loss: 25.4093 - val_acc: 0.7410\n",
      "Epoch 41/50\n",
      "500/500 [==============================] - 505s - loss: 40.3678 - acc: 0.7152 - val_loss: 25.4138 - val_acc: 0.7530\n",
      "Epoch 42/50\n",
      "500/500 [==============================] - 505s - loss: 40.4593 - acc: 0.7149 - val_loss: 25.4202 - val_acc: 0.7478\n",
      "Epoch 43/50\n",
      "500/500 [==============================] - 505s - loss: 40.4802 - acc: 0.7056 - val_loss: 25.4267 - val_acc: 0.7465\n",
      "Epoch 44/50\n",
      "500/500 [==============================] - 505s - loss: 40.4462 - acc: 0.7115 - val_loss: 25.4322 - val_acc: 0.7447\n",
      "Epoch 45/50\n",
      "500/500 [==============================] - 505s - loss: 40.5566 - acc: 0.7153 - val_loss: 25.4387 - val_acc: 0.7488\n",
      "Epoch 46/50\n",
      "500/500 [==============================] - 507s - loss: 40.4987 - acc: 0.7055 - val_loss: 25.4447 - val_acc: 0.7477\n",
      "Epoch 47/50\n",
      "500/500 [==============================] - 505s - loss: 40.5900 - acc: 0.7065 - val_loss: 25.4515 - val_acc: 0.7505\n",
      "Epoch 48/50\n",
      "500/500 [==============================] - 505s - loss: 40.3950 - acc: 0.7055 - val_loss: 25.4573 - val_acc: 0.7448\n",
      "Epoch 49/50\n",
      "500/500 [==============================] - 505s - loss: 40.5108 - acc: 0.7028 - val_loss: 25.4631 - val_acc: 0.7533\n",
      "Epoch 50/50\n",
      "500/500 [==============================] - 505s - loss: 40.5744 - acc: 0.7039 - val_loss: 25.4702 - val_acc: 0.7418\n"
     ]
    }
   ],
   "source": [
    "train_generator = train_datagen.flow_from_directory(\n",
    "    'diabetic/processed_images/train',\n",
    "    target_size=(224, 224),\n",
    "    classes=['0', '1', '2', '3', '4'],\n",
    "    batch_size=20,\n",
    "    class_mode='categorical')\n",
    "\n",
    "validation_generator = test_datagen.flow_from_directory(\n",
    "    'diabetic/processed_images/validation',\n",
    "    target_size=(224, 224),\n",
    "    batch_size=20,\n",
    "    class_mode='categorical')\n",
    "\n",
    "model.compile(loss='categorical_crossentropy',\n",
    "    optimizer=optimizers.RMSprop(lr=2e-5),\n",
    "    metrics=['acc'])\n",
    "\n",
    "history = model.fit_generator(\n",
    "    train_generator,\n",
    "    class_weight={0: 1, 1: 10.6, 2: 4.6, 3: 30, 4: 37},\n",
    "    steps_per_epoch = 500,\n",
    "    epochs = 50,\n",
    "    validation_data = validation_generator,\n",
    "    validation_steps = 300)"
   ]
  },
  {
   "cell_type": "code",
   "execution_count": 11,
   "metadata": {
    "collapsed": false
   },
   "outputs": [
    {
     "data": {
      "image/png": "[encoded data removed]",
      "text/plain": [
       "<matplotlib.figure.Figure at 0x7f26a2818490>"
      ]
     },
     "metadata": {},
     "output_type": "display_data"
    },
    {
     "data": {
      "image/png": "[encoded data removed]",
      "text/plain": [
       "<matplotlib.figure.Figure at 0x7f2640181e50>"
      ]
     },
     "metadata": {},
     "output_type": "display_data"
    }
   ],
   "source": [
    "import h5py\n",
    "import matplotlib.pyplot as plt\n",
    "\n",
    "model.save(\"vgg19.model\")\n",
    "model.save('saved_models/vgg19-model.h5')\n",
    "model.save_weights('saved_models/vgg19.h5', overwrite=True)\n",
    "json_string = model.to_json()\n",
    "\n",
    "with open('saved_models/vgg19.json', 'w') as f:\n",
    "      f.write(json_string)\n",
    "\n",
    "\n",
    "acc = history.history['acc']\n",
    "val_acc = history.history['val_acc']\n",
    "loss = history.history['loss']\n",
    "val_loss = history.history['val_loss']\n",
    "epochs = range(1, len(acc) + 1)\n",
    "plt.plot(epochs, acc, 'bo', label='Training acc')\n",
    "plt.plot(epochs, val_acc, 'b', label='Validation acc')\n",
    "plt.title('Training and validation accuracy')\n",
    "plt.legend()\n",
    "plt.figure()\n",
    "plt.plot(epochs, loss, 'bo', label='Training loss')\n",
    "plt.plot(epochs, val_loss, 'b', label='Validation loss')\n",
    "plt.title('Training and validation loss')\n",
    "plt.legend()\n",
    "plt.show()\n"
   ]
  },
  {
   "cell_type": "code",
   "execution_count": null,
   "metadata": {
    "collapsed": true
   },
   "outputs": [],
   "source": []
  },
  {
   "cell_type": "code",
   "execution_count": null,
   "metadata": {
    "collapsed": true
   },
   "outputs": [],
   "source": [
    "# backup\n",
    "# preds = pd.read_csv(os.path.join('submission_backup.csv'))\n",
    "\n",
    "# def get_labels(directory):\n",
    "#     return os.listdir(directory)\n",
    "\n",
    "# idx_label =  get_labels(os.path.abspath(os.path.join('diabetic/processed_images/test')))\n",
    "\n",
    "# len(idx_label)\n",
    "# print(idx_label[0])\n",
    "# print(os.path.splitext(idx_label)[0])"
   ]
  },
  {
   "cell_type": "code",
   "execution_count": null,
   "metadata": {
    "collapsed": false
   },
   "outputs": [],
   "source": [
    "# from __future__ import absolute_import\n",
    "# import pandas as pd\n",
    "# import matplotlib.pyplot as plt\n",
    "# import os\n",
    "# %matplotlib inline\n",
    "\n",
    "\n",
    "\n",
    "\n",
    "# l = os.listdir('diabetic/processed_images/test')\n",
    "# idx_label = [x.split('.')[0] for x in l]\n",
    "\n",
    "# len(idx_label)\n",
    "# idx_label"
   ]
  },
  {
   "cell_type": "code",
   "execution_count": null,
   "metadata": {
    "collapsed": false
   },
   "outputs": [],
   "source": [
    "# pd.DataFrame(idx_label)"
   ]
  },
  {
   "cell_type": "code",
   "execution_count": null,
   "metadata": {
    "collapsed": false
   },
   "outputs": [],
   "source": [
    "# preds['image'] = idx_label\n",
    "# print(preds)"
   ]
  },
  {
   "cell_type": "code",
   "execution_count": null,
   "metadata": {
    "collapsed": false
   },
   "outputs": [],
   "source": []
  },
  {
   "cell_type": "code",
   "execution_count": 9,
   "metadata": {
    "collapsed": false
   },
   "outputs": [
    {
     "name": "stdout",
     "output_type": "stream",
     "text": [
      "Found 1000 images belonging to 1 classes.\n",
      "700/700 [==============================] - 49s    \n",
      "[0 0 0 0 0 0 0 0 0 0 0 0 0 0 0 0 0 0 0 0 0 0 0 0 0 0 0 0 0 0 0 0 0 0 0 0 0\n",
      " 0 0 0 0 0 0 0 0 0 0 0 0 0 0 0 0 0 0 0 0 0 0 0 0 0 0 0 0 0 0 0 0 0 0 0 0 0\n",
      " 0 0 0 0 0 0 0 0 0 0 0 0 0 0 0 0 0 0 0 0 0 0 0 0 0 0 0 0 0 0 0 0 0 0 0 0 0\n",
      " 0 0 0 0 0 0 0 0 0 0 0 0 0 0 0 0 0 0 0 0 0 0 0 0 0 0 0 0 0 0 0 0 0 0 0 0 0\n",
      " 0 0 0 0 0 0 0 0 0 0 0 0 0 0 0 0 0 0 0 0 0 0 0 0 0 0 0 0 0 0 0 0 0 0 0 0 0\n",
      " 0 0 0 0 0 0 0 0 0 0 0 0 0 0 0 0 0 0 0 0 0 0 0 0 0 0 0 0 0 0 0 0 0 0 0 0 0\n",
      " 0 0 0 0 0 0 0 0 0 0 0 0 0 0 0 0 0 0 0 0 0 0 0 0 0 0 0 0 0 0 0 0 0 0 0 0 0\n",
      " 0 0 0 0 0 0 0 0 0 0 0 0 0 0 0 0 0 0 0 0 0 0 0 0 0 0 0 0 0 0 0 0 0 0 0 0 0\n",
      " 0 0 0 0 0 0 0 0 0 0 0 0 0 0 0 0 0 0 0 0 0 0 0 0 0 0 0 0 0 0 0 0 0 0 0 0 0\n",
      " 0 0 0 0 0 0 0 0 0 0 0 0 0 0 0 0 0 0 0 0 0 0 0 0 0 0 0 0 0 0 0 0 0 0 0 0 0\n",
      " 0 0 0 0 0 0 0 0 0 0 0 0 0 0 0 0 0 0 0 0 0 0 0 0 0 0 0 0 0 0 0 0 0 0 0 0 0\n",
      " 0 0 0 0 0 0 0 0 0 0 0 0 0 0 0 0 0 0 0 0 0 0 0 0 0 0 0 0 0 0 0 0 0 0 0 0 0\n",
      " 0 0 0 0 0 0 0 0 0 0 0 0 0 0 0 0 0 0 0 0 0 0 0 0 0 0 0 0 0 0 0 0 0 0 0 0 0\n",
      " 0 0 0 0 0 0 0 0 0 0 0 0 0 0 0 0 0 0 0 0 0 0 0 0 0 0 0 0 0 0 0 0 0 0 0 0 0\n",
      " 0 0 0 0 0 0 0 0 0 0 0 0 0 0 0 0 0 0 0 0 0 0 0 0 0 0 0 0 0 0 0 0 0 0 0 0 0\n",
      " 0 0 0 0 0 0 0 0 0 0 0 0 0 0 0 0 0 0 0 0 0 0 0 0 0 0 0 0 0 0 0 0 0 0 0 0 0\n",
      " 0 0 0 0 0 0 0 0 0 0 0 0 0 0 0 0 0 0 0 0 0 0 0 0 0 0 0 0 0 0 0 0 0 0 0 0 0\n",
      " 0 0 0 0 0 0 0 0 0 0 0 0 0 0 0 0 0 0 0 0 0 0 0 0 0 0 0 0 0 0 0 0 0 0 0 0 0\n",
      " 0 0 0 0 0 0 0 0 0 0 0 0 0 0 0 0 0 0 0 0 0 0 0 0 0 0 0 0 0 0 0 0 0 0]\n"
     ]
    }
   ],
   "source": [
    "# load_model_sample.py\n",
    "from keras.models import load_model\n",
    "from keras.preprocessing import image\n",
    "import matplotlib.pyplot as plt\n",
    "import numpy as np\n",
    "from keras.models import load_model\n",
    "import os\n",
    "from keras.applications.imagenet_utils import preprocess_input, decode_predictions\n",
    "\n",
    "# def load_image(img_path, show=True):\n",
    "\n",
    "#     img = image.load_img(img_path, target_size=(150, 150))\n",
    "#     img_tensor = image.img_to_array(img)                    # (height, width, channels)\n",
    "#     img_tensor = np.expand_dims(img_tensor, axis=0)         # (1, height, width, channels), add a dimension because the model expects this shape: (batch_size, height, width, channels)\n",
    "#     img_tensor /= 255.                                      # imshow expects values in the range [0, 1]\n",
    "\n",
    "#     if show:\n",
    "#         plt.imshow(img_tensor[0])                           \n",
    "#         plt.axis('off')\n",
    "#         plt.show()\n",
    "\n",
    "#     return img_tensor\n",
    "\n",
    "\n",
    "if __name__ == \"__main__\":\n",
    "#     sample_datagen = ImageDataGenerator(rescale=1./255)\n",
    "#     sample_generator = sample_datagen.flow_from_directory(\n",
    "#         'sample',\n",
    "#         target_size=(150, 150),\n",
    "#         classes=['0', '1', '2', '3', '4'],\n",
    "#         batch_size=1,\n",
    "#         shuffle=False,\n",
    "#         class_mode='categorical')\n",
    "    model.load_weights('saved_models/vgg19.h5')    \n",
    "#     model = load_model('vgg19.model')\n",
    "#     model.compile(loss='categorical_crossentropy', optimizer='adam', metrics=['acc'])\n",
    "    model.compile(loss='categorical_crossentropy',\n",
    "        optimizer='adam',\n",
    "        metrics=['accuracy'])\n",
    "# Single Image\n",
    "#     img_path = image.load_img('sample/test2/38016_right.jpeg', target_size=(224, 224))\n",
    "#     x = image.img_to_array(img_path)\n",
    "#     x = np.expand_dims(x, axis=0)\n",
    "\n",
    "#     filenames = sample_generator.filenames\n",
    "#     nb_samples = len(filenames)\n",
    "#     print(nb_samples)\n",
    "#     prediction = model.predict_generator(sample_generator, steps = 17)\n",
    "#     print prediction\n",
    "\n",
    "    test_datagen = ImageDataGenerator(rescale=1./255)\n",
    "\n",
    "    test_generator = test_datagen.flow_from_directory(\n",
    "            'diabetic/processed_images/test_subset',\n",
    "            target_size=(224, 224),\n",
    "#             classes=['0', '1', '2', '3', '4'],\n",
    "            shuffle = \"false\",\n",
    "            class_mode=None,\n",
    "            batch_size=1)\n",
    "\n",
    "    filenames = test_generator.filenames\n",
    "    nb_samples = len(filenames)\n",
    "    \n",
    "    predicted_classes = np.argmax(test_generator)\n",
    "    true_classes = test_generator.classes\n",
    "    predict = model.predict_generator(test_generator, steps = 700, verbose=1)\n",
    "#     predict = model.predict_on_batch(np.array(test_generator))\n",
    "#     print(predicted_classes)\n",
    "#     print(true_classes)\n",
    "#     print(predict)\n",
    "#     y_predictions = probas_to_classes(predict)\n",
    "    print(predict.argmax(axis=-1))\n",
    "#     out2 = model.predict(x, verbose=1)\n",
    "#     out3 = model.predict_classes(x)\n",
    "\n",
    "#     print(np.argmax(out2))\n",
    "#     print(np.argmax(out3))\n"
   ]
  },
  {
   "cell_type": "code",
   "execution_count": null,
   "metadata": {
    "collapsed": false
   },
   "outputs": [],
   "source": []
  },
  {
   "cell_type": "code",
   "execution_count": null,
   "metadata": {
    "collapsed": true
   },
   "outputs": [],
   "source": []
  }
 ],
 "metadata": {
  "kernelspec": {
   "display_name": "venv",
   "language": "python",
   "name": "venv"
  },
  "language_info": {
   "codemirror_mode": {
    "name": "ipython",
    "version": 2
   },
   "file_extension": ".py",
   "mimetype": "text/x-python",
   "name": "python",
   "nbconvert_exporter": "python",
   "pygments_lexer": "ipython2",
   "version": "2.7.14"
  }
 },
 "nbformat": 4,
 "nbformat_minor": 2
}
