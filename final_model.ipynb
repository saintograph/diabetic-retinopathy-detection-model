{
 "cells": [
  {
   "cell_type": "markdown",
   "metadata": {},
   "source": [
    "## <u>Load InceptionV3</u>\n"
   ]
  },
  {
   "cell_type": "code",
   "execution_count": 7,
   "metadata": {
    "collapsed": false
   },
   "outputs": [],
   "source": [
    "# import modules\n",
    "from keras.applications.inception_v3 import InceptionV3\n",
    "from keras.callbacks import Callback\n",
    "from sklearn.metrics import confusion_matrix, f1_score, precision_score, recall_score\n",
    "from keras import backend as K\n",
    "\n",
    "conv_base = InceptionV3(weights='imagenet', input_shape=(299, 299, 3), include_top=False, pooling='max', classes=5)"
   ]
  },
  {
   "cell_type": "code",
   "execution_count": 8,
   "metadata": {
    "collapsed": false
   },
   "outputs": [
    {
     "name": "stdout",
     "output_type": "stream",
     "text": [
      "_________________________________________________________________\n",
      "Layer (type)                 Output Shape              Param #   \n",
      "=================================================================\n",
      "inception_v3 (Model)         (None, 2048)              21802784  \n",
      "_________________________________________________________________\n",
      "dense_2 (Dense)              (None, 5)                 10245     \n",
      "=================================================================\n",
      "Total params: 21,813,029.0\n",
      "Trainable params: 21,778,597.0\n",
      "Non-trainable params: 34,432.0\n",
      "_________________________________________________________________\n"
     ]
    }
   ],
   "source": [
    "from keras import models\n",
    "from keras import layers\n",
    "from keras import regularizers\n",
    "\n",
    "# create pre-trained CNN architecture\n",
    "model = models.Sequential()\n",
    "model.add(conv_base)\n",
    "model.add(layers.Dense(5, activation='softmax'))\n",
    "\n",
    "model.summary()\n",
    "\n",
    "# source/credit : https://www.kaggle.com/arsenyinfo/f-beta-score-for-keras\n",
    "# code for calculating the F1 metric\n",
    "def fbeta(y_true, y_pred, threshold_shift=0):\n",
    "    beta = 1\n",
    "\n",
    "    y_pred = K.clip(y_pred, 0, 1)\n",
    "    y_pred_bin = K.round(y_pred + threshold_shift)\n",
    "\n",
    "    tp = K.sum(K.round(y_true * y_pred_bin)) + K.epsilon()\n",
    "    fp = K.sum(K.round(K.clip(y_pred_bin - y_true, 0, 1)))\n",
    "    fn = K.sum(K.round(K.clip(y_true - y_pred, 0, 1)))\n",
    "\n",
    "    precision = tp / (tp + fp)\n",
    "    recall = tp / (tp + fn)\n",
    "\n",
    "    beta_squared = beta ** 2\n",
    "    return (beta_squared + 1) * (precision * recall) / (beta_squared * precision + recall + K.epsilon())"
   ]
  },
  {
   "cell_type": "markdown",
   "metadata": {},
   "source": [
    "#### Define image generators and common parameters"
   ]
  },
  {
   "cell_type": "code",
   "execution_count": 3,
   "metadata": {
    "collapsed": false
   },
   "outputs": [
    {
     "name": "stdout",
     "output_type": "stream",
     "text": [
      "Found 30000 images belonging to 5 classes.\n",
      "Found 5120 images belonging to 5 classes.\n"
     ]
    }
   ],
   "source": [
    "from keras.preprocessing.image import ImageDataGenerator\n",
    "from keras import optimizers\n",
    "\n",
    "# create data generators\n",
    "train_datagen = ImageDataGenerator(rescale=1./255)\n",
    "test_datagen = ImageDataGenerator(rescale=1./255)\n",
    "\n",
    "batch_size = 20\n",
    "target_size = (299, 299)\n",
    "epochs = 30\n",
    "\n",
    "train_generator = train_datagen.flow_from_directory(\n",
    "    'diabetic/processed_images/train',\n",
    "    target_size=target_size,\n",
    "    classes=['0', '1', '2', '3', '4'],\n",
    "    batch_size=batch_size,\n",
    "    class_mode='categorical')\n",
    "\n",
    "validation_generator = test_datagen.flow_from_directory(\n",
    "    'diabetic/processed_images/validation',\n",
    "    target_size=target_size,\n",
    "    batch_size=batch_size,\n",
    "    class_mode='categorical')"
   ]
  },
  {
   "cell_type": "markdown",
   "metadata": {},
   "source": [
    "## <u>Training</u>\n",
    "\n",
    "Class weights (`class_weight={0: 1, 1: 10.6, 2: 4.6, 3: 30, 4: 37},`) are calculated according to the ratio of available training images for each class for tackling the **class imbalance problem**. The number of images per class available for training:\n",
    "\n",
    "* Normal (0) - 25807 images (73.48%) \n",
    "* Mild (1) - 2442 images (6.96%) \n",
    "* Moderate (2) - 5291 images (15.07%) \n",
    "* Severe (3) - 873 images (2.48%)\n",
    "* Proliferative (4) -708 images(2.01%)\n",
    "\n",
    "The model is trained with "
   ]
  },
  {
   "cell_type": "code",
   "execution_count": 4,
   "metadata": {
    "collapsed": false
   },
   "outputs": [
    {
     "name": "stdout",
     "output_type": "stream",
     "text": [
      "Epoch 1/30\n",
      "100/100 [==============================] - 102s - loss: 8.4687 - acc: 0.2270 - fbeta: 0.1840 - val_loss: 1.2536 - val_acc: 0.5820 - val_fbeta: 0.5736\n",
      "Epoch 2/30\n",
      "100/100 [==============================] - 98s - loss: 7.3679 - acc: 0.2990 - fbeta: 0.2552 - val_loss: 1.2725 - val_acc: 0.6130 - val_fbeta: 0.6062\n",
      "Epoch 3/30\n",
      "100/100 [==============================] - 98s - loss: 6.5294 - acc: 0.3155 - fbeta: 0.2696 - val_loss: 1.2670 - val_acc: 0.5935 - val_fbeta: 0.5851\n",
      "Epoch 4/30\n",
      "100/100 [==============================] - 98s - loss: 7.5591 - acc: 0.2895 - fbeta: 0.2543 - val_loss: 1.1638 - val_acc: 0.6600 - val_fbeta: 0.6562\n",
      "Epoch 5/30\n",
      "100/100 [==============================] - 98s - loss: 6.5905 - acc: 0.3380 - fbeta: 0.2815 - val_loss: 1.1450 - val_acc: 0.6415 - val_fbeta: 0.6344\n",
      "Epoch 6/30\n",
      "100/100 [==============================] - 98s - loss: 6.3315 - acc: 0.3555 - fbeta: 0.3036 - val_loss: 1.1149 - val_acc: 0.6930 - val_fbeta: 0.6886\n",
      "Epoch 7/30\n",
      "100/100 [==============================] - 98s - loss: 7.1016 - acc: 0.3430 - fbeta: 0.3088 - val_loss: 1.2229 - val_acc: 0.6750 - val_fbeta: 0.6736\n",
      "Epoch 8/30\n",
      "100/100 [==============================] - 98s - loss: 6.7666 - acc: 0.3615 - fbeta: 0.3160 - val_loss: 1.0904 - val_acc: 0.6975 - val_fbeta: 0.6969\n",
      "Epoch 9/30\n",
      "100/100 [==============================] - 97s - loss: 6.0581 - acc: 0.3810 - fbeta: 0.3372 - val_loss: 1.2774 - val_acc: 0.7055 - val_fbeta: 0.7035\n",
      "Epoch 10/30\n",
      "100/100 [==============================] - 97s - loss: 5.8864 - acc: 0.3925 - fbeta: 0.3618 - val_loss: 1.2824 - val_acc: 0.7150 - val_fbeta: 0.7140\n",
      "Epoch 11/30\n",
      "100/100 [==============================] - 97s - loss: 6.5644 - acc: 0.3670 - fbeta: 0.3381 - val_loss: 1.1652 - val_acc: 0.7205 - val_fbeta: 0.7179\n",
      "Epoch 12/30\n",
      "100/100 [==============================] - 97s - loss: 6.2018 - acc: 0.3650 - fbeta: 0.3211 - val_loss: 1.3767 - val_acc: 0.7215 - val_fbeta: 0.7221\n",
      "Epoch 13/30\n",
      "100/100 [==============================] - 98s - loss: 5.8853 - acc: 0.3845 - fbeta: 0.3309 - val_loss: 1.2292 - val_acc: 0.7180 - val_fbeta: 0.7194\n",
      "Epoch 14/30\n",
      "100/100 [==============================] - 98s - loss: 6.2421 - acc: 0.3660 - fbeta: 0.3144 - val_loss: 1.0776 - val_acc: 0.7525 - val_fbeta: 0.7523\n",
      "Epoch 15/30\n",
      "100/100 [==============================] - 97s - loss: 5.6498 - acc: 0.3720 - fbeta: 0.3278 - val_loss: 1.2334 - val_acc: 0.7570 - val_fbeta: 0.7577\n",
      "Epoch 16/30\n",
      "100/100 [==============================] - 98s - loss: 4.4361 - acc: 0.4350 - fbeta: 0.3913 - val_loss: 1.4279 - val_acc: 0.7390 - val_fbeta: 0.7398\n",
      "Epoch 17/30\n",
      "100/100 [==============================] - 98s - loss: 4.9701 - acc: 0.4365 - fbeta: 0.4048 - val_loss: 1.4437 - val_acc: 0.7510 - val_fbeta: 0.7516\n",
      "Epoch 18/30\n",
      "100/100 [==============================] - 97s - loss: 4.7588 - acc: 0.4100 - fbeta: 0.3630 - val_loss: 1.3180 - val_acc: 0.7415 - val_fbeta: 0.7423\n",
      "Epoch 19/30\n",
      "100/100 [==============================] - 97s - loss: 5.0322 - acc: 0.4230 - fbeta: 0.3770 - val_loss: 1.0273 - val_acc: 0.7625 - val_fbeta: 0.7616\n",
      "Epoch 20/30\n",
      "100/100 [==============================] - 98s - loss: 4.7027 - acc: 0.4200 - fbeta: 0.3722 - val_loss: 1.1487 - val_acc: 0.7615 - val_fbeta: 0.7634\n",
      "Epoch 21/30\n",
      "100/100 [==============================] - 98s - loss: 4.8791 - acc: 0.4305 - fbeta: 0.3718 - val_loss: 1.1829 - val_acc: 0.7390 - val_fbeta: 0.7397\n",
      "Epoch 22/30\n",
      "100/100 [==============================] - 97s - loss: 5.2489 - acc: 0.3855 - fbeta: 0.3238 - val_loss: 1.2788 - val_acc: 0.7530 - val_fbeta: 0.7535\n",
      "Epoch 23/30\n",
      "100/100 [==============================] - 98s - loss: 4.9397 - acc: 0.4060 - fbeta: 0.3520 - val_loss: 1.3299 - val_acc: 0.7470 - val_fbeta: 0.7472\n",
      "Epoch 24/30\n",
      "100/100 [==============================] - 98s - loss: 5.1834 - acc: 0.4070 - fbeta: 0.3340 - val_loss: 1.1813 - val_acc: 0.7630 - val_fbeta: 0.7628\n",
      "Epoch 25/30\n",
      "100/100 [==============================] - 98s - loss: 5.0655 - acc: 0.4070 - fbeta: 0.3612 - val_loss: 1.3408 - val_acc: 0.7585 - val_fbeta: 0.7579\n",
      "Epoch 26/30\n",
      "100/100 [==============================] - 98s - loss: 5.1170 - acc: 0.4215 - fbeta: 0.3816 - val_loss: 1.2628 - val_acc: 0.7395 - val_fbeta: 0.7398\n",
      "Epoch 27/30\n",
      "100/100 [==============================] - 98s - loss: 4.9232 - acc: 0.4120 - fbeta: 0.3584 - val_loss: 1.3968 - val_acc: 0.7660 - val_fbeta: 0.7661\n",
      "Epoch 28/30\n",
      "100/100 [==============================] - 98s - loss: 4.8666 - acc: 0.4430 - fbeta: 0.3886 - val_loss: 1.4775 - val_acc: 0.7575 - val_fbeta: 0.7574\n",
      "Epoch 29/30\n",
      "100/100 [==============================] - 98s - loss: 5.0744 - acc: 0.3840 - fbeta: 0.3233 - val_loss: 1.3217 - val_acc: 0.7610 - val_fbeta: 0.7611\n",
      "Epoch 30/30\n",
      "100/100 [==============================] - 98s - loss: 5.2621 - acc: 0.4135 - fbeta: 0.3474 - val_loss: 1.7191 - val_acc: 0.7535 - val_fbeta: 0.7536\n"
     ]
    }
   ],
   "source": [
    "# compile the model and train\n",
    "model.compile(loss='categorical_crossentropy',\n",
    "    optimizer=optimizers.RMSprop(lr=2e-5),\n",
    "    metrics=['acc', fbeta])\n",
    "\n",
    "history = model.fit_generator(\n",
    "    train_generator,\n",
    "    class_weight={0: 1, 1: 10.6, 2: 4.6, 3: 30, 4: 37},\n",
    "    steps_per_epoch = 100,\n",
    "    epochs = epochs,\n",
    "    validation_data = validation_generator,\n",
    "    validation_steps = 100)"
   ]
  },
  {
   "cell_type": "markdown",
   "metadata": {},
   "source": [
    "## <u>Visualizing loss and accuracy</u>"
   ]
  },
  {
   "cell_type": "code",
   "execution_count": 5,
   "metadata": {
    "collapsed": false
   },
   "outputs": [
    {
     "data": {
      "image/png": "[encoded data removed]",
      "text/plain": [
       "<matplotlib.figure.Figure at 0x7f97245e0910>"
      ]
     },
     "metadata": {},
     "output_type": "display_data"
    },
    {
     "data": {
      "image/png": "[encoded data removed]",
      "text/plain": [
       "<matplotlib.figure.Figure at 0x7f96b073ee10>"
      ]
     },
     "metadata": {},
     "output_type": "display_data"
    },
    {
     "data": {
      "image/png": "[encoded data removed]",
      "text/plain": [
       "<matplotlib.figure.Figure at 0x7f96b077f150>"
      ]
     },
     "metadata": {},
     "output_type": "display_data"
    }
   ],
   "source": [
    "import h5py\n",
    "import matplotlib.pyplot as plt\n",
    "\n",
    "# save model and weight for future training\n",
    "model.save(\"inceptionV3.model\")\n",
    "model.save('saved_models/inceptionV3.h5')\n",
    "model.save_weights('saved_models/inceptionV3-weights.h5', overwrite=True)\n",
    "json_string = model.to_json()\n",
    "\n",
    "with open('saved_models/inceptionV3.json', 'w') as f:\n",
    "      f.write(json_string)\n",
    "\n",
    "# define variables for plotting\n",
    "acc = history.history['acc']\n",
    "val_acc = history.history['val_acc']\n",
    "loss = history.history['loss']\n",
    "val_loss = history.history['val_loss']\n",
    "f1 = history.history['fbeta']\n",
    "val_f1 = history.history['val_fbeta']\n",
    "epochs = range(1, len(acc) + 1)\n",
    "\n",
    "# plot graphs for loss, accuracy and F1 score\n",
    "plt.plot(epochs, acc, 'bo', label='Training acc')\n",
    "plt.plot(epochs, val_acc, 'b', label='Validation acc')\n",
    "plt.title('Training and validation accuracy')\n",
    "plt.legend()\n",
    "plt.figure()\n",
    "plt.plot(epochs, loss, 'bo', label='Training loss')\n",
    "plt.plot(epochs, val_loss, 'b', label='Validation loss')\n",
    "plt.title('Training and validation loss')\n",
    "plt.legend()\n",
    "plt.figure()\n",
    "plt.title('Training and validation loss')\n",
    "plt.plot(epochs, f1, 'bo', label='Training F1 score')\n",
    "plt.plot(epochs, val_f1, 'b', label='Validation F1 score')\n",
    "plt.title('Training and validation F1 scores')\n",
    "plt.legend()\n",
    "plt.show()\n"
   ]
  },
  {
   "cell_type": "code",
   "execution_count": null,
   "metadata": {
    "collapsed": true
   },
   "outputs": [],
   "source": []
  },
  {
   "cell_type": "code",
   "execution_count": null,
   "metadata": {
    "collapsed": true
   },
   "outputs": [],
   "source": [
    "# backup\n",
    "# preds = pd.read_csv(os.path.join('submission_backup.csv'))\n",
    "\n",
    "# def get_labels(directory):\n",
    "#     return os.listdir(directory)\n",
    "\n",
    "# idx_label =  get_labels(os.path.abspath(os.path.join('diabetic/processed_images/test')))\n",
    "\n",
    "# len(idx_label)\n",
    "# print(idx_label[0])\n",
    "# print(os.path.splitext(idx_label)[0])"
   ]
  },
  {
   "cell_type": "code",
   "execution_count": null,
   "metadata": {
    "collapsed": false
   },
   "outputs": [],
   "source": [
    "# from __future__ import absolute_import\n",
    "# import pandas as pd\n",
    "# import matplotlib.pyplot as plt\n",
    "# import os\n",
    "# %matplotlib inline\n",
    "\n",
    "\n",
    "\n",
    "\n",
    "# l = os.listdir('diabetic/processed_images/test')\n",
    "# idx_label = [x.split('.')[0] for x in l]\n",
    "\n",
    "# len(idx_label)\n",
    "# idx_label"
   ]
  },
  {
   "cell_type": "code",
   "execution_count": null,
   "metadata": {
    "collapsed": false
   },
   "outputs": [],
   "source": [
    "# pd.DataFrame(idx_label)"
   ]
  },
  {
   "cell_type": "code",
   "execution_count": null,
   "metadata": {
    "collapsed": false
   },
   "outputs": [],
   "source": [
    "# preds['image'] = idx_label\n",
    "# print(preds)"
   ]
  },
  {
   "cell_type": "markdown",
   "metadata": {
    "collapsed": false
   },
   "source": [
    "## <u>Predict 53, 576 testing images</u>"
   ]
  },
  {
   "cell_type": "code",
   "execution_count": 108,
   "metadata": {
    "collapsed": false,
    "scrolled": true
   },
   "outputs": [
    {
     "name": "stdout",
     "output_type": "stream",
     "text": [
      "Found 53576 images belonging to 1 classes.\n",
      "53575/53576 [============================>.] - ETA: 0s[0 0 0 ... 0 2 0]\n"
     ]
    }
   ],
   "source": [
    "# run prediction on testing dataset of 53,576 images\n",
    "import pandas as pd\n",
    "from keras.models import load_model\n",
    "from keras.preprocessing import image\n",
    "import matplotlib.pyplot as plt\n",
    "import numpy as np\n",
    "from keras.models import load_model\n",
    "import os\n",
    "from keras.applications.imagenet_utils import preprocess_input, decode_predictions\n",
    "\n",
    "if __name__ == \"__main__\":\n",
    "\n",
    "    model.load_weights('saved_models/inceptionV3-weights.h5')    \n",
    "    model.compile(loss='categorical_crossentropy',\n",
    "        optimizer='adam',\n",
    "        metrics=['accuracy'])\n",
    "# Single Image\n",
    "#     img_path = image.load_img('sample/test2/38016_right.jpeg', target_size=(224, 224))\n",
    "#     x = image.img_to_array(img_path)\n",
    "#     x = np.expand_dims(x, axis=0)\n",
    "\n",
    "#     filenames = sample_generator.filenames\n",
    "#     nb_samples = len(filenames)\n",
    "#     print(nb_samples)\n",
    "#     prediction = model.predict_generator(sample_generator, steps = 17)\n",
    "#     print prediction\n",
    "\n",
    "# create test data generators\n",
    "test_datagen = ImageDataGenerator(rescale=1./255)\n",
    "\n",
    "test_generator = test_datagen.flow_from_directory(\n",
    "        'diabetic/processed_images/test',\n",
    "        target_size=(299, 299),\n",
    "        shuffle = \"false\",\n",
    "        class_mode=None,\n",
    "        batch_size=1)\n",
    "\n",
    "filenames = test_generator.filenames\n",
    "    nb_samples = len(filenames)\n",
    "    \n",
    "    predicted_classes = np.argmax(test_generator)\n",
    "    true_classes = test_generator.classes\n",
    "    predict = model.predict_generator(test_generator, steps = nb_samples, verbose=1)\n",
    "\n",
    "    print(predict.argmax(axis=-1).astype(int))\n",
    "\n",
    "    # output predictions to csv file (submission.csv)\n",
    "    def save_to_csv():\n",
    "        df = pd.read_csv(\"submission.csv\")\n",
    "        df['prediction'] = predict.argmax(axis=-1).astype(float)\n",
    "        df.to_csv('submission2.csv', index=False)\n",
    "\n",
    "    save_to_csv()\n",
    "\n"
   ]
  },
  {
   "cell_type": "code",
   "execution_count": null,
   "metadata": {
    "collapsed": false
   },
   "outputs": [],
   "source": []
  }
 ],
 "metadata": {
  "kernelspec": {
   "display_name": "venv",
   "language": "python",
   "name": "venv"
  },
  "language_info": {
   "codemirror_mode": {
    "name": "ipython",
    "version": 2
   },
   "file_extension": ".py",
   "mimetype": "text/x-python",
   "name": "python",
   "nbconvert_exporter": "python",
   "pygments_lexer": "ipython2",
   "version": "2.7.14"
  }
 },
 "nbformat": 4,
 "nbformat_minor": 2
}
